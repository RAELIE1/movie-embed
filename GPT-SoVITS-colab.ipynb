{
  "cells": [
    {
      "cell_type": "markdown",
      "metadata": {
        "id": "view-in-github",
        "colab_type": "text"
      },
      "source": [
        "<a href=\"https://colab.research.google.com/github/RAELIE1/movie-embed/blob/main/GPT-SoVITS-colab.ipynb\" target=\"_parent\"><img src=\"https://colab.research.google.com/assets/colab-badge.svg\" alt=\"Open In Colab\"/></a>"
      ]
    },
    {
      "cell_type": "markdown",
      "metadata": {
        "id": "N_ObSINJXiKW"
      },
      "source": [
        "👇 Just Click the Play Button (Run) and Wait for Public Gradio Link"
      ]
    },
    {
      "cell_type": "code",
      "source": [
        "!./install.sh\n"
      ],
      "metadata": {
        "id": "TEFBgt4HfQml",
        "outputId": "5a5f994e-7fec-4e8d-8dba-a6ad14c2910a",
        "colab": {
          "base_uri": "https://localhost:8080/"
        }
      },
      "execution_count": 4,
      "outputs": [
        {
          "output_type": "stream",
          "name": "stdout",
          "text": [
            "\u001b[1;31m[ERROR]: \u001b[0mConda Not Found\n"
          ]
        }
      ]
    }
  ],
  "metadata": {
    "accelerator": "GPU",
    "colab": {
      "gpuType": "T4",
      "provenance": [],
      "include_colab_link": true
    },
    "kernelspec": {
      "display_name": "Python 3",
      "name": "python3"
    },
    "language_info": {
      "name": "python"
    }
  },
  "nbformat": 4,
  "nbformat_minor": 0
}